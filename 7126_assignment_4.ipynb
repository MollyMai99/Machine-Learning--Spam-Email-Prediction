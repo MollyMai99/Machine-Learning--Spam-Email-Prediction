{
  "nbformat": 4,
  "nbformat_minor": 0,
  "metadata": {
    "colab": {
      "provenance": []
    },
    "kernelspec": {
      "name": "python3",
      "display_name": "Python 3"
    },
    "language_info": {
      "name": "python"
    }
  },
  "cells": [
    {
      "cell_type": "markdown",
      "source": [
        "Importing the Dependencies"
      ],
      "metadata": {
        "id": "3eucY88WJxZ3"
      }
    },
    {
      "cell_type": "code",
      "execution_count": 50,
      "metadata": {
        "id": "iPOXgEo-WBCp"
      },
      "outputs": [],
      "source": [
        "import pandas as pd\n",
        "import numpy as np\n",
        "import matplotlib.pyplot as plt\n",
        "from sklearn.model_selection import train_test_split"
      ]
    },
    {
      "cell_type": "markdown",
      "source": [
        "Data Collection & Processing"
      ],
      "metadata": {
        "id": "vm3dT5f1J9GS"
      }
    },
    {
      "cell_type": "code",
      "source": [
        "##loadong the data from csv file to a Pandas Dataframe\n",
        "SpamDataset = pd.read_csv('/content/SpamDataset.csv')"
      ],
      "metadata": {
        "id": "avV5uSmQKEyz"
      },
      "execution_count": 51,
      "outputs": []
    },
    {
      "cell_type": "code",
      "source": [
        "print(SpamDataset)"
      ],
      "metadata": {
        "colab": {
          "base_uri": "https://localhost:8080/"
        },
        "id": "s1dwW78JKkIR",
        "outputId": "f22a5af8-dc3f-4bb9-c222-a319275b39ce"
      },
      "execution_count": 52,
      "outputs": [
        {
          "output_type": "stream",
          "name": "stdout",
          "text": [
            "      word_freq_make  word_freq_address  word_freq_all  word_freq_3d  \\\n",
            "0              0.000              0.897          1.157           0.0   \n",
            "1              0.893              0.000          0.000           0.0   \n",
            "2              0.000              0.549          0.549           0.0   \n",
            "3              0.000              0.000          0.367           0.0   \n",
            "4              0.000              0.000          0.000           0.0   \n",
            "...              ...                ...            ...           ...   \n",
            "4595           0.740              0.000          0.370           0.0   \n",
            "4596           0.760              0.000          0.000           0.0   \n",
            "4597           0.000              0.000          0.000           0.0   \n",
            "4598           0.000              0.000          0.000           0.0   \n",
            "4599           0.000              0.000          0.000           0.0   \n",
            "\n",
            "      word_freq_our  word_freq_over  word_freq_remove  word_freq_internet  \\\n",
            "0             0.127           0.000             0.000               0.127   \n",
            "1             0.000           0.000             0.893               0.000   \n",
            "2             1.099           0.549             2.189               0.000   \n",
            "3             1.107           0.737             0.000               2.957   \n",
            "4             0.000           0.000             0.000               0.000   \n",
            "...             ...             ...               ...                 ...   \n",
            "4595          0.370           0.370             1.100               0.000   \n",
            "4596          0.000           0.000             0.000               0.000   \n",
            "4597          0.000           0.000             0.000               0.000   \n",
            "4598          0.000           0.000             0.000               0.000   \n",
            "4599          1.579           0.000             0.389               1.189   \n",
            "\n",
            "      word_freq_order  word_freq_mail  ...  char_freq_;  char_freq_(  \\\n",
            "0               0.257           0.127  ...        0.000        0.192   \n",
            "1               0.000           0.000  ...        0.000        0.000   \n",
            "2               0.000           0.549  ...        0.000        0.166   \n",
            "3               0.000           2.957  ...        0.000        0.146   \n",
            "4               0.000           0.000  ...        0.000        0.274   \n",
            "...               ...             ...  ...          ...          ...   \n",
            "4595            0.000           0.000  ...        0.000        0.193   \n",
            "4596            0.000           0.000  ...        0.135        0.000   \n",
            "4597            0.000           0.000  ...        0.000        0.000   \n",
            "4598            0.000           0.000  ...        0.000        0.358   \n",
            "4599            0.000           0.389  ...        0.000        0.000   \n",
            "\n",
            "      char_freq_[  char_freq_!  char_freq_$  char_freq_#  \\\n",
            "0             0.0        0.377        0.068        0.000   \n",
            "1             0.0        0.557        0.000        0.000   \n",
            "2             0.0        0.480        0.000        0.087   \n",
            "3             0.0        1.093        0.000        0.000   \n",
            "4             0.0        0.140        0.000        0.000   \n",
            "...           ...          ...          ...          ...   \n",
            "4595          0.0        0.437        0.071        0.000   \n",
            "4596          0.0        0.000        0.000        0.000   \n",
            "4597          0.0        0.000        0.000        0.000   \n",
            "4598          0.0        0.000        0.000        0.000   \n",
            "4599          0.0        0.704        0.210        0.000   \n",
            "\n",
            "      capital_run_length_average  capital_run_length_longest  \\\n",
            "0                          2.885                          87   \n",
            "1                          2.811                          16   \n",
            "2                         15.089                         151   \n",
            "3                          5.157                         105   \n",
            "4                          2.756                           8   \n",
            "...                          ...                         ...   \n",
            "4595                       4.430                         197   \n",
            "4596                       1.411                           5   \n",
            "4597                       0.991                           1   \n",
            "4598                       1.469                           6   \n",
            "4599                       1.902                          13   \n",
            "\n",
            "      capital_run_length_total  spam  \n",
            "0                          478     1  \n",
            "1                           59     1  \n",
            "2                          381     1  \n",
            "3                          287     1  \n",
            "4                           25     0  \n",
            "...                        ...   ...  \n",
            "4595                       310     1  \n",
            "4596                        24     0  \n",
            "4597                         5     0  \n",
            "4598                        23     0  \n",
            "4599                       118     1  \n",
            "\n",
            "[4600 rows x 58 columns]\n"
          ]
        }
      ]
    },
    {
      "cell_type": "code",
      "source": [
        "SpamDataset.head()"
      ],
      "metadata": {
        "colab": {
          "base_uri": "https://localhost:8080/",
          "height": 299
        },
        "id": "wnYBL885Ku8V",
        "outputId": "2743d688-03a3-48f1-d347-2bb7e233ae8d"
      },
      "execution_count": 53,
      "outputs": [
        {
          "output_type": "execute_result",
          "data": {
            "text/plain": [
              "   word_freq_make  word_freq_address  word_freq_all  word_freq_3d  \\\n",
              "0           0.000              0.897          1.157           0.0   \n",
              "1           0.893              0.000          0.000           0.0   \n",
              "2           0.000              0.549          0.549           0.0   \n",
              "3           0.000              0.000          0.367           0.0   \n",
              "4           0.000              0.000          0.000           0.0   \n",
              "\n",
              "   word_freq_our  word_freq_over  word_freq_remove  word_freq_internet  \\\n",
              "0          0.127           0.000             0.000               0.127   \n",
              "1          0.000           0.000             0.893               0.000   \n",
              "2          1.099           0.549             2.189               0.000   \n",
              "3          1.107           0.737             0.000               2.957   \n",
              "4          0.000           0.000             0.000               0.000   \n",
              "\n",
              "   word_freq_order  word_freq_mail  ...  char_freq_;  char_freq_(  \\\n",
              "0            0.257           0.127  ...          0.0        0.192   \n",
              "1            0.000           0.000  ...          0.0        0.000   \n",
              "2            0.000           0.549  ...          0.0        0.166   \n",
              "3            0.000           2.957  ...          0.0        0.146   \n",
              "4            0.000           0.000  ...          0.0        0.274   \n",
              "\n",
              "   char_freq_[  char_freq_!  char_freq_$  char_freq_#  \\\n",
              "0          0.0        0.377        0.068        0.000   \n",
              "1          0.0        0.557        0.000        0.000   \n",
              "2          0.0        0.480        0.000        0.087   \n",
              "3          0.0        1.093        0.000        0.000   \n",
              "4          0.0        0.140        0.000        0.000   \n",
              "\n",
              "   capital_run_length_average  capital_run_length_longest  \\\n",
              "0                       2.885                          87   \n",
              "1                       2.811                          16   \n",
              "2                      15.089                         151   \n",
              "3                       5.157                         105   \n",
              "4                       2.756                           8   \n",
              "\n",
              "   capital_run_length_total  spam  \n",
              "0                       478     1  \n",
              "1                        59     1  \n",
              "2                       381     1  \n",
              "3                       287     1  \n",
              "4                        25     0  \n",
              "\n",
              "[5 rows x 58 columns]"
            ],
            "text/html": [
              "\n",
              "  <div id=\"df-99f3312a-2aa6-4879-b550-c0e495ce130a\">\n",
              "    <div class=\"colab-df-container\">\n",
              "      <div>\n",
              "<style scoped>\n",
              "    .dataframe tbody tr th:only-of-type {\n",
              "        vertical-align: middle;\n",
              "    }\n",
              "\n",
              "    .dataframe tbody tr th {\n",
              "        vertical-align: top;\n",
              "    }\n",
              "\n",
              "    .dataframe thead th {\n",
              "        text-align: right;\n",
              "    }\n",
              "</style>\n",
              "<table border=\"1\" class=\"dataframe\">\n",
              "  <thead>\n",
              "    <tr style=\"text-align: right;\">\n",
              "      <th></th>\n",
              "      <th>word_freq_make</th>\n",
              "      <th>word_freq_address</th>\n",
              "      <th>word_freq_all</th>\n",
              "      <th>word_freq_3d</th>\n",
              "      <th>word_freq_our</th>\n",
              "      <th>word_freq_over</th>\n",
              "      <th>word_freq_remove</th>\n",
              "      <th>word_freq_internet</th>\n",
              "      <th>word_freq_order</th>\n",
              "      <th>word_freq_mail</th>\n",
              "      <th>...</th>\n",
              "      <th>char_freq_;</th>\n",
              "      <th>char_freq_(</th>\n",
              "      <th>char_freq_[</th>\n",
              "      <th>char_freq_!</th>\n",
              "      <th>char_freq_$</th>\n",
              "      <th>char_freq_#</th>\n",
              "      <th>capital_run_length_average</th>\n",
              "      <th>capital_run_length_longest</th>\n",
              "      <th>capital_run_length_total</th>\n",
              "      <th>spam</th>\n",
              "    </tr>\n",
              "  </thead>\n",
              "  <tbody>\n",
              "    <tr>\n",
              "      <th>0</th>\n",
              "      <td>0.000</td>\n",
              "      <td>0.897</td>\n",
              "      <td>1.157</td>\n",
              "      <td>0.0</td>\n",
              "      <td>0.127</td>\n",
              "      <td>0.000</td>\n",
              "      <td>0.000</td>\n",
              "      <td>0.127</td>\n",
              "      <td>0.257</td>\n",
              "      <td>0.127</td>\n",
              "      <td>...</td>\n",
              "      <td>0.0</td>\n",
              "      <td>0.192</td>\n",
              "      <td>0.0</td>\n",
              "      <td>0.377</td>\n",
              "      <td>0.068</td>\n",
              "      <td>0.000</td>\n",
              "      <td>2.885</td>\n",
              "      <td>87</td>\n",
              "      <td>478</td>\n",
              "      <td>1</td>\n",
              "    </tr>\n",
              "    <tr>\n",
              "      <th>1</th>\n",
              "      <td>0.893</td>\n",
              "      <td>0.000</td>\n",
              "      <td>0.000</td>\n",
              "      <td>0.0</td>\n",
              "      <td>0.000</td>\n",
              "      <td>0.000</td>\n",
              "      <td>0.893</td>\n",
              "      <td>0.000</td>\n",
              "      <td>0.000</td>\n",
              "      <td>0.000</td>\n",
              "      <td>...</td>\n",
              "      <td>0.0</td>\n",
              "      <td>0.000</td>\n",
              "      <td>0.0</td>\n",
              "      <td>0.557</td>\n",
              "      <td>0.000</td>\n",
              "      <td>0.000</td>\n",
              "      <td>2.811</td>\n",
              "      <td>16</td>\n",
              "      <td>59</td>\n",
              "      <td>1</td>\n",
              "    </tr>\n",
              "    <tr>\n",
              "      <th>2</th>\n",
              "      <td>0.000</td>\n",
              "      <td>0.549</td>\n",
              "      <td>0.549</td>\n",
              "      <td>0.0</td>\n",
              "      <td>1.099</td>\n",
              "      <td>0.549</td>\n",
              "      <td>2.189</td>\n",
              "      <td>0.000</td>\n",
              "      <td>0.000</td>\n",
              "      <td>0.549</td>\n",
              "      <td>...</td>\n",
              "      <td>0.0</td>\n",
              "      <td>0.166</td>\n",
              "      <td>0.0</td>\n",
              "      <td>0.480</td>\n",
              "      <td>0.000</td>\n",
              "      <td>0.087</td>\n",
              "      <td>15.089</td>\n",
              "      <td>151</td>\n",
              "      <td>381</td>\n",
              "      <td>1</td>\n",
              "    </tr>\n",
              "    <tr>\n",
              "      <th>3</th>\n",
              "      <td>0.000</td>\n",
              "      <td>0.000</td>\n",
              "      <td>0.367</td>\n",
              "      <td>0.0</td>\n",
              "      <td>1.107</td>\n",
              "      <td>0.737</td>\n",
              "      <td>0.000</td>\n",
              "      <td>2.957</td>\n",
              "      <td>0.000</td>\n",
              "      <td>2.957</td>\n",
              "      <td>...</td>\n",
              "      <td>0.0</td>\n",
              "      <td>0.146</td>\n",
              "      <td>0.0</td>\n",
              "      <td>1.093</td>\n",
              "      <td>0.000</td>\n",
              "      <td>0.000</td>\n",
              "      <td>5.157</td>\n",
              "      <td>105</td>\n",
              "      <td>287</td>\n",
              "      <td>1</td>\n",
              "    </tr>\n",
              "    <tr>\n",
              "      <th>4</th>\n",
              "      <td>0.000</td>\n",
              "      <td>0.000</td>\n",
              "      <td>0.000</td>\n",
              "      <td>0.0</td>\n",
              "      <td>0.000</td>\n",
              "      <td>0.000</td>\n",
              "      <td>0.000</td>\n",
              "      <td>0.000</td>\n",
              "      <td>0.000</td>\n",
              "      <td>0.000</td>\n",
              "      <td>...</td>\n",
              "      <td>0.0</td>\n",
              "      <td>0.274</td>\n",
              "      <td>0.0</td>\n",
              "      <td>0.140</td>\n",
              "      <td>0.000</td>\n",
              "      <td>0.000</td>\n",
              "      <td>2.756</td>\n",
              "      <td>8</td>\n",
              "      <td>25</td>\n",
              "      <td>0</td>\n",
              "    </tr>\n",
              "  </tbody>\n",
              "</table>\n",
              "<p>5 rows × 58 columns</p>\n",
              "</div>\n",
              "      <button class=\"colab-df-convert\" onclick=\"convertToInteractive('df-99f3312a-2aa6-4879-b550-c0e495ce130a')\"\n",
              "              title=\"Convert this dataframe to an interactive table.\"\n",
              "              style=\"display:none;\">\n",
              "        \n",
              "  <svg xmlns=\"http://www.w3.org/2000/svg\" height=\"24px\"viewBox=\"0 0 24 24\"\n",
              "       width=\"24px\">\n",
              "    <path d=\"M0 0h24v24H0V0z\" fill=\"none\"/>\n",
              "    <path d=\"M18.56 5.44l.94 2.06.94-2.06 2.06-.94-2.06-.94-.94-2.06-.94 2.06-2.06.94zm-11 1L8.5 8.5l.94-2.06 2.06-.94-2.06-.94L8.5 2.5l-.94 2.06-2.06.94zm10 10l.94 2.06.94-2.06 2.06-.94-2.06-.94-.94-2.06-.94 2.06-2.06.94z\"/><path d=\"M17.41 7.96l-1.37-1.37c-.4-.4-.92-.59-1.43-.59-.52 0-1.04.2-1.43.59L10.3 9.45l-7.72 7.72c-.78.78-.78 2.05 0 2.83L4 21.41c.39.39.9.59 1.41.59.51 0 1.02-.2 1.41-.59l7.78-7.78 2.81-2.81c.8-.78.8-2.07 0-2.86zM5.41 20L4 18.59l7.72-7.72 1.47 1.35L5.41 20z\"/>\n",
              "  </svg>\n",
              "      </button>\n",
              "      \n",
              "  <style>\n",
              "    .colab-df-container {\n",
              "      display:flex;\n",
              "      flex-wrap:wrap;\n",
              "      gap: 12px;\n",
              "    }\n",
              "\n",
              "    .colab-df-convert {\n",
              "      background-color: #E8F0FE;\n",
              "      border: none;\n",
              "      border-radius: 50%;\n",
              "      cursor: pointer;\n",
              "      display: none;\n",
              "      fill: #1967D2;\n",
              "      height: 32px;\n",
              "      padding: 0 0 0 0;\n",
              "      width: 32px;\n",
              "    }\n",
              "\n",
              "    .colab-df-convert:hover {\n",
              "      background-color: #E2EBFA;\n",
              "      box-shadow: 0px 1px 2px rgba(60, 64, 67, 0.3), 0px 1px 3px 1px rgba(60, 64, 67, 0.15);\n",
              "      fill: #174EA6;\n",
              "    }\n",
              "\n",
              "    [theme=dark] .colab-df-convert {\n",
              "      background-color: #3B4455;\n",
              "      fill: #D2E3FC;\n",
              "    }\n",
              "\n",
              "    [theme=dark] .colab-df-convert:hover {\n",
              "      background-color: #434B5C;\n",
              "      box-shadow: 0px 1px 3px 1px rgba(0, 0, 0, 0.15);\n",
              "      filter: drop-shadow(0px 1px 2px rgba(0, 0, 0, 0.3));\n",
              "      fill: #FFFFFF;\n",
              "    }\n",
              "  </style>\n",
              "\n",
              "      <script>\n",
              "        const buttonEl =\n",
              "          document.querySelector('#df-99f3312a-2aa6-4879-b550-c0e495ce130a button.colab-df-convert');\n",
              "        buttonEl.style.display =\n",
              "          google.colab.kernel.accessAllowed ? 'block' : 'none';\n",
              "\n",
              "        async function convertToInteractive(key) {\n",
              "          const element = document.querySelector('#df-99f3312a-2aa6-4879-b550-c0e495ce130a');\n",
              "          const dataTable =\n",
              "            await google.colab.kernel.invokeFunction('convertToInteractive',\n",
              "                                                     [key], {});\n",
              "          if (!dataTable) return;\n",
              "\n",
              "          const docLinkHtml = 'Like what you see? Visit the ' +\n",
              "            '<a target=\"_blank\" href=https://colab.research.google.com/notebooks/data_table.ipynb>data table notebook</a>'\n",
              "            + ' to learn more about interactive tables.';\n",
              "          element.innerHTML = '';\n",
              "          dataTable['output_type'] = 'display_data';\n",
              "          await google.colab.output.renderOutput(dataTable, element);\n",
              "          const docLink = document.createElement('div');\n",
              "          docLink.innerHTML = docLinkHtml;\n",
              "          element.appendChild(docLink);\n",
              "        }\n",
              "      </script>\n",
              "    </div>\n",
              "  </div>\n",
              "  "
            ]
          },
          "metadata": {},
          "execution_count": 53
        }
      ]
    },
    {
      "cell_type": "code",
      "source": [
        "# number of rows and columns in the dataset\n",
        "SpamDataset.shape"
      ],
      "metadata": {
        "colab": {
          "base_uri": "https://localhost:8080/"
        },
        "id": "mWfSj1ZSLE75",
        "outputId": "92513123-cba3-4b03-fd15-b77fd143f852"
      },
      "execution_count": 54,
      "outputs": [
        {
          "output_type": "execute_result",
          "data": {
            "text/plain": [
              "(4600, 58)"
            ]
          },
          "metadata": {},
          "execution_count": 54
        }
      ]
    },
    {
      "cell_type": "code",
      "source": [
        "# getting some information about the data\n",
        "SpamDataset.info()"
      ],
      "metadata": {
        "colab": {
          "base_uri": "https://localhost:8080/"
        },
        "id": "2s01ETZlLrZ2",
        "outputId": "3f013ee7-b1a1-4149-f2b1-793f5bcfbbac"
      },
      "execution_count": 55,
      "outputs": [
        {
          "output_type": "stream",
          "name": "stdout",
          "text": [
            "<class 'pandas.core.frame.DataFrame'>\n",
            "RangeIndex: 4600 entries, 0 to 4599\n",
            "Data columns (total 58 columns):\n",
            " #   Column                      Non-Null Count  Dtype  \n",
            "---  ------                      --------------  -----  \n",
            " 0   word_freq_make              4600 non-null   float64\n",
            " 1   word_freq_address           4600 non-null   float64\n",
            " 2   word_freq_all               4600 non-null   float64\n",
            " 3   word_freq_3d                4600 non-null   float64\n",
            " 4   word_freq_our               4600 non-null   float64\n",
            " 5   word_freq_over              4600 non-null   float64\n",
            " 6   word_freq_remove            4600 non-null   float64\n",
            " 7   word_freq_internet          4600 non-null   float64\n",
            " 8   word_freq_order             4600 non-null   float64\n",
            " 9   word_freq_mail              4600 non-null   float64\n",
            " 10  word_freq_receive           4600 non-null   float64\n",
            " 11  word_freq_will              4600 non-null   float64\n",
            " 12  word_freq_people            4600 non-null   float64\n",
            " 13  word_freq_report            4600 non-null   float64\n",
            " 14  word_freq_addresses         4600 non-null   float64\n",
            " 15  word_freq_free              4600 non-null   float64\n",
            " 16  word_freq_business          4600 non-null   float64\n",
            " 17  word_freq_email             4600 non-null   float64\n",
            " 18  word_freq_you               4600 non-null   float64\n",
            " 19  word_freq_credit            4600 non-null   float64\n",
            " 20  word_freq_your              4600 non-null   float64\n",
            " 21  word_freq_font              4600 non-null   float64\n",
            " 22  word_freq_000               4600 non-null   float64\n",
            " 23  word_freq_money             4600 non-null   float64\n",
            " 24  word_freq_hp                4600 non-null   float64\n",
            " 25  word_freq_hpl               4600 non-null   float64\n",
            " 26  word_freq_george            4600 non-null   float64\n",
            " 27  word_freq_650               4600 non-null   float64\n",
            " 28  word_freq_lab               4600 non-null   float64\n",
            " 29  word_freq_labs              4600 non-null   float64\n",
            " 30  word_freq_telnet            4600 non-null   float64\n",
            " 31  word_freq_857               4600 non-null   float64\n",
            " 32  word_freq_data              4600 non-null   float64\n",
            " 33  word_freq_415               4600 non-null   float64\n",
            " 34  word_freq_85                4600 non-null   float64\n",
            " 35  word_freq_technology        4600 non-null   float64\n",
            " 36  word_freq_1999              4600 non-null   float64\n",
            " 37  word_freq_parts             4600 non-null   float64\n",
            " 38  word_freq_pm                4600 non-null   float64\n",
            " 39  word_freq_direct            4600 non-null   float64\n",
            " 40  word_freq_cs                4600 non-null   float64\n",
            " 41  word_freq_meeting           4600 non-null   float64\n",
            " 42  word_freq_original          4600 non-null   float64\n",
            " 43  word_freq_project           4600 non-null   float64\n",
            " 44  word_freq_re                4600 non-null   float64\n",
            " 45  word_freq_edu               4600 non-null   float64\n",
            " 46  word_freq_table             4600 non-null   float64\n",
            " 47  word_freq_conference        4600 non-null   float64\n",
            " 48  char_freq_;                 4600 non-null   float64\n",
            " 49  char_freq_(                 4600 non-null   float64\n",
            " 50  char_freq_[                 4600 non-null   float64\n",
            " 51  char_freq_!                 4600 non-null   float64\n",
            " 52  char_freq_$                 4600 non-null   float64\n",
            " 53  char_freq_#                 4600 non-null   float64\n",
            " 54  capital_run_length_average  4600 non-null   float64\n",
            " 55  capital_run_length_longest  4600 non-null   int64  \n",
            " 56  capital_run_length_total    4600 non-null   int64  \n",
            " 57  spam                        4600 non-null   int64  \n",
            "dtypes: float64(55), int64(3)\n",
            "memory usage: 2.0 MB\n"
          ]
        }
      ]
    },
    {
      "cell_type": "code",
      "source": [
        "# checking for missing values\n",
        "SpamDataset.isnull().sum()"
      ],
      "metadata": {
        "colab": {
          "base_uri": "https://localhost:8080/"
        },
        "id": "hKrULI0xL4oh",
        "outputId": "f8f0692e-75db-4408-f179-0eecc0679cfd"
      },
      "execution_count": 56,
      "outputs": [
        {
          "output_type": "execute_result",
          "data": {
            "text/plain": [
              "word_freq_make                0\n",
              "word_freq_address             0\n",
              "word_freq_all                 0\n",
              "word_freq_3d                  0\n",
              "word_freq_our                 0\n",
              "word_freq_over                0\n",
              "word_freq_remove              0\n",
              "word_freq_internet            0\n",
              "word_freq_order               0\n",
              "word_freq_mail                0\n",
              "word_freq_receive             0\n",
              "word_freq_will                0\n",
              "word_freq_people              0\n",
              "word_freq_report              0\n",
              "word_freq_addresses           0\n",
              "word_freq_free                0\n",
              "word_freq_business            0\n",
              "word_freq_email               0\n",
              "word_freq_you                 0\n",
              "word_freq_credit              0\n",
              "word_freq_your                0\n",
              "word_freq_font                0\n",
              "word_freq_000                 0\n",
              "word_freq_money               0\n",
              "word_freq_hp                  0\n",
              "word_freq_hpl                 0\n",
              "word_freq_george              0\n",
              "word_freq_650                 0\n",
              "word_freq_lab                 0\n",
              "word_freq_labs                0\n",
              "word_freq_telnet              0\n",
              "word_freq_857                 0\n",
              "word_freq_data                0\n",
              "word_freq_415                 0\n",
              "word_freq_85                  0\n",
              "word_freq_technology          0\n",
              "word_freq_1999                0\n",
              "word_freq_parts               0\n",
              "word_freq_pm                  0\n",
              "word_freq_direct              0\n",
              "word_freq_cs                  0\n",
              "word_freq_meeting             0\n",
              "word_freq_original            0\n",
              "word_freq_project             0\n",
              "word_freq_re                  0\n",
              "word_freq_edu                 0\n",
              "word_freq_table               0\n",
              "word_freq_conference          0\n",
              "char_freq_;                   0\n",
              "char_freq_(                   0\n",
              "char_freq_[                   0\n",
              "char_freq_!                   0\n",
              "char_freq_$                   0\n",
              "char_freq_#                   0\n",
              "capital_run_length_average    0\n",
              "capital_run_length_longest    0\n",
              "capital_run_length_total      0\n",
              "spam                          0\n",
              "dtype: int64"
            ]
          },
          "metadata": {},
          "execution_count": 56
        }
      ]
    },
    {
      "cell_type": "code",
      "source": [
        "# statistical measures about the data\n",
        "SpamDataset.describe()"
      ],
      "metadata": {
        "colab": {
          "base_uri": "https://localhost:8080/",
          "height": 393
        },
        "id": "tzDic0PcMFcw",
        "outputId": "94adf142-3d69-4920-feb8-338236e13ec6"
      },
      "execution_count": 57,
      "outputs": [
        {
          "output_type": "execute_result",
          "data": {
            "text/plain": [
              "       word_freq_make  word_freq_address  word_freq_all  word_freq_3d  \\\n",
              "count     4600.000000        4600.000000    4600.000000   4600.000000   \n",
              "mean         0.104627           0.213073       0.280670      0.065441   \n",
              "std          0.305417           1.290788       0.504258      1.395401   \n",
              "min          0.000000           0.000000       0.000000      0.000000   \n",
              "25%          0.000000           0.000000       0.000000      0.000000   \n",
              "50%          0.000000           0.000000       0.000000      0.000000   \n",
              "75%          0.000000           0.000000       0.421000      0.000000   \n",
              "max          4.538000          14.289000       5.092000     42.814000   \n",
              "\n",
              "       word_freq_our  word_freq_over  word_freq_remove  word_freq_internet  \\\n",
              "count    4600.000000     4600.000000       4600.000000         4600.000000   \n",
              "mean        0.312123        0.095835          0.114285            0.105345   \n",
              "std         0.672530        0.273839          0.391530            0.401039   \n",
              "min         0.000000        0.000000          0.000000            0.000000   \n",
              "25%         0.000000        0.000000          0.000000            0.000000   \n",
              "50%         0.000000        0.000000          0.000000            0.000000   \n",
              "75%         0.384000        0.000000          0.000000            0.000000   \n",
              "max         9.998000        5.889000          7.278000           11.102000   \n",
              "\n",
              "       word_freq_order  word_freq_mail  ...  char_freq_;  char_freq_(  \\\n",
              "count      4600.000000     4600.000000  ...  4600.000000  4600.000000   \n",
              "mean          0.090105        0.239524  ...     0.038547     0.139149   \n",
              "std           0.278590        0.644856  ...     0.243350     0.270379   \n",
              "min           0.000000        0.000000  ...    -0.004000    -0.004000   \n",
              "25%           0.000000        0.000000  ...     0.000000     0.000000   \n",
              "50%           0.000000        0.000000  ...     0.000000     0.064000   \n",
              "75%           0.000000        0.161000  ...     0.000000     0.188000   \n",
              "max           5.258000       18.171000  ...     4.390000     9.742000   \n",
              "\n",
              "       char_freq_[  char_freq_!  char_freq_$  char_freq_#  \\\n",
              "count  4600.000000  4600.000000  4600.000000  4600.000000   \n",
              "mean      0.016949     0.269102     0.075834     0.044256   \n",
              "std       0.109342     0.815809     0.245993     0.429307   \n",
              "min      -0.007000    -0.008000    -0.005000    -0.004000   \n",
              "25%       0.000000     0.000000     0.000000     0.000000   \n",
              "50%       0.000000     0.000000     0.000000     0.000000   \n",
              "75%       0.000000     0.316000     0.052000     0.000000   \n",
              "max       4.083000    32.479000     6.009000    19.829000   \n",
              "\n",
              "       capital_run_length_average  capital_run_length_longest  \\\n",
              "count                 4600.000000                 4600.000000   \n",
              "mean                     5.191111                   52.183696   \n",
              "std                     31.732934                  194.909998   \n",
              "min                      0.990000                    1.000000   \n",
              "25%                      1.587750                    6.000000   \n",
              "50%                      2.273500                   15.000000   \n",
              "75%                      3.706250                   43.000000   \n",
              "max                   1102.500000                 9984.000000   \n",
              "\n",
              "       capital_run_length_total         spam  \n",
              "count               4600.000000  4600.000000  \n",
              "mean                 283.305435     0.393913  \n",
              "std                  606.419489     0.488669  \n",
              "min                    1.000000     0.000000  \n",
              "25%                   34.000000     0.000000  \n",
              "50%                   95.000000     0.000000  \n",
              "75%                  266.250000     1.000000  \n",
              "max                15840.000000     1.000000  \n",
              "\n",
              "[8 rows x 58 columns]"
            ],
            "text/html": [
              "\n",
              "  <div id=\"df-3cffa54c-7efb-420d-ad1b-b25581ca0905\">\n",
              "    <div class=\"colab-df-container\">\n",
              "      <div>\n",
              "<style scoped>\n",
              "    .dataframe tbody tr th:only-of-type {\n",
              "        vertical-align: middle;\n",
              "    }\n",
              "\n",
              "    .dataframe tbody tr th {\n",
              "        vertical-align: top;\n",
              "    }\n",
              "\n",
              "    .dataframe thead th {\n",
              "        text-align: right;\n",
              "    }\n",
              "</style>\n",
              "<table border=\"1\" class=\"dataframe\">\n",
              "  <thead>\n",
              "    <tr style=\"text-align: right;\">\n",
              "      <th></th>\n",
              "      <th>word_freq_make</th>\n",
              "      <th>word_freq_address</th>\n",
              "      <th>word_freq_all</th>\n",
              "      <th>word_freq_3d</th>\n",
              "      <th>word_freq_our</th>\n",
              "      <th>word_freq_over</th>\n",
              "      <th>word_freq_remove</th>\n",
              "      <th>word_freq_internet</th>\n",
              "      <th>word_freq_order</th>\n",
              "      <th>word_freq_mail</th>\n",
              "      <th>...</th>\n",
              "      <th>char_freq_;</th>\n",
              "      <th>char_freq_(</th>\n",
              "      <th>char_freq_[</th>\n",
              "      <th>char_freq_!</th>\n",
              "      <th>char_freq_$</th>\n",
              "      <th>char_freq_#</th>\n",
              "      <th>capital_run_length_average</th>\n",
              "      <th>capital_run_length_longest</th>\n",
              "      <th>capital_run_length_total</th>\n",
              "      <th>spam</th>\n",
              "    </tr>\n",
              "  </thead>\n",
              "  <tbody>\n",
              "    <tr>\n",
              "      <th>count</th>\n",
              "      <td>4600.000000</td>\n",
              "      <td>4600.000000</td>\n",
              "      <td>4600.000000</td>\n",
              "      <td>4600.000000</td>\n",
              "      <td>4600.000000</td>\n",
              "      <td>4600.000000</td>\n",
              "      <td>4600.000000</td>\n",
              "      <td>4600.000000</td>\n",
              "      <td>4600.000000</td>\n",
              "      <td>4600.000000</td>\n",
              "      <td>...</td>\n",
              "      <td>4600.000000</td>\n",
              "      <td>4600.000000</td>\n",
              "      <td>4600.000000</td>\n",
              "      <td>4600.000000</td>\n",
              "      <td>4600.000000</td>\n",
              "      <td>4600.000000</td>\n",
              "      <td>4600.000000</td>\n",
              "      <td>4600.000000</td>\n",
              "      <td>4600.000000</td>\n",
              "      <td>4600.000000</td>\n",
              "    </tr>\n",
              "    <tr>\n",
              "      <th>mean</th>\n",
              "      <td>0.104627</td>\n",
              "      <td>0.213073</td>\n",
              "      <td>0.280670</td>\n",
              "      <td>0.065441</td>\n",
              "      <td>0.312123</td>\n",
              "      <td>0.095835</td>\n",
              "      <td>0.114285</td>\n",
              "      <td>0.105345</td>\n",
              "      <td>0.090105</td>\n",
              "      <td>0.239524</td>\n",
              "      <td>...</td>\n",
              "      <td>0.038547</td>\n",
              "      <td>0.139149</td>\n",
              "      <td>0.016949</td>\n",
              "      <td>0.269102</td>\n",
              "      <td>0.075834</td>\n",
              "      <td>0.044256</td>\n",
              "      <td>5.191111</td>\n",
              "      <td>52.183696</td>\n",
              "      <td>283.305435</td>\n",
              "      <td>0.393913</td>\n",
              "    </tr>\n",
              "    <tr>\n",
              "      <th>std</th>\n",
              "      <td>0.305417</td>\n",
              "      <td>1.290788</td>\n",
              "      <td>0.504258</td>\n",
              "      <td>1.395401</td>\n",
              "      <td>0.672530</td>\n",
              "      <td>0.273839</td>\n",
              "      <td>0.391530</td>\n",
              "      <td>0.401039</td>\n",
              "      <td>0.278590</td>\n",
              "      <td>0.644856</td>\n",
              "      <td>...</td>\n",
              "      <td>0.243350</td>\n",
              "      <td>0.270379</td>\n",
              "      <td>0.109342</td>\n",
              "      <td>0.815809</td>\n",
              "      <td>0.245993</td>\n",
              "      <td>0.429307</td>\n",
              "      <td>31.732934</td>\n",
              "      <td>194.909998</td>\n",
              "      <td>606.419489</td>\n",
              "      <td>0.488669</td>\n",
              "    </tr>\n",
              "    <tr>\n",
              "      <th>min</th>\n",
              "      <td>0.000000</td>\n",
              "      <td>0.000000</td>\n",
              "      <td>0.000000</td>\n",
              "      <td>0.000000</td>\n",
              "      <td>0.000000</td>\n",
              "      <td>0.000000</td>\n",
              "      <td>0.000000</td>\n",
              "      <td>0.000000</td>\n",
              "      <td>0.000000</td>\n",
              "      <td>0.000000</td>\n",
              "      <td>...</td>\n",
              "      <td>-0.004000</td>\n",
              "      <td>-0.004000</td>\n",
              "      <td>-0.007000</td>\n",
              "      <td>-0.008000</td>\n",
              "      <td>-0.005000</td>\n",
              "      <td>-0.004000</td>\n",
              "      <td>0.990000</td>\n",
              "      <td>1.000000</td>\n",
              "      <td>1.000000</td>\n",
              "      <td>0.000000</td>\n",
              "    </tr>\n",
              "    <tr>\n",
              "      <th>25%</th>\n",
              "      <td>0.000000</td>\n",
              "      <td>0.000000</td>\n",
              "      <td>0.000000</td>\n",
              "      <td>0.000000</td>\n",
              "      <td>0.000000</td>\n",
              "      <td>0.000000</td>\n",
              "      <td>0.000000</td>\n",
              "      <td>0.000000</td>\n",
              "      <td>0.000000</td>\n",
              "      <td>0.000000</td>\n",
              "      <td>...</td>\n",
              "      <td>0.000000</td>\n",
              "      <td>0.000000</td>\n",
              "      <td>0.000000</td>\n",
              "      <td>0.000000</td>\n",
              "      <td>0.000000</td>\n",
              "      <td>0.000000</td>\n",
              "      <td>1.587750</td>\n",
              "      <td>6.000000</td>\n",
              "      <td>34.000000</td>\n",
              "      <td>0.000000</td>\n",
              "    </tr>\n",
              "    <tr>\n",
              "      <th>50%</th>\n",
              "      <td>0.000000</td>\n",
              "      <td>0.000000</td>\n",
              "      <td>0.000000</td>\n",
              "      <td>0.000000</td>\n",
              "      <td>0.000000</td>\n",
              "      <td>0.000000</td>\n",
              "      <td>0.000000</td>\n",
              "      <td>0.000000</td>\n",
              "      <td>0.000000</td>\n",
              "      <td>0.000000</td>\n",
              "      <td>...</td>\n",
              "      <td>0.000000</td>\n",
              "      <td>0.064000</td>\n",
              "      <td>0.000000</td>\n",
              "      <td>0.000000</td>\n",
              "      <td>0.000000</td>\n",
              "      <td>0.000000</td>\n",
              "      <td>2.273500</td>\n",
              "      <td>15.000000</td>\n",
              "      <td>95.000000</td>\n",
              "      <td>0.000000</td>\n",
              "    </tr>\n",
              "    <tr>\n",
              "      <th>75%</th>\n",
              "      <td>0.000000</td>\n",
              "      <td>0.000000</td>\n",
              "      <td>0.421000</td>\n",
              "      <td>0.000000</td>\n",
              "      <td>0.384000</td>\n",
              "      <td>0.000000</td>\n",
              "      <td>0.000000</td>\n",
              "      <td>0.000000</td>\n",
              "      <td>0.000000</td>\n",
              "      <td>0.161000</td>\n",
              "      <td>...</td>\n",
              "      <td>0.000000</td>\n",
              "      <td>0.188000</td>\n",
              "      <td>0.000000</td>\n",
              "      <td>0.316000</td>\n",
              "      <td>0.052000</td>\n",
              "      <td>0.000000</td>\n",
              "      <td>3.706250</td>\n",
              "      <td>43.000000</td>\n",
              "      <td>266.250000</td>\n",
              "      <td>1.000000</td>\n",
              "    </tr>\n",
              "    <tr>\n",
              "      <th>max</th>\n",
              "      <td>4.538000</td>\n",
              "      <td>14.289000</td>\n",
              "      <td>5.092000</td>\n",
              "      <td>42.814000</td>\n",
              "      <td>9.998000</td>\n",
              "      <td>5.889000</td>\n",
              "      <td>7.278000</td>\n",
              "      <td>11.102000</td>\n",
              "      <td>5.258000</td>\n",
              "      <td>18.171000</td>\n",
              "      <td>...</td>\n",
              "      <td>4.390000</td>\n",
              "      <td>9.742000</td>\n",
              "      <td>4.083000</td>\n",
              "      <td>32.479000</td>\n",
              "      <td>6.009000</td>\n",
              "      <td>19.829000</td>\n",
              "      <td>1102.500000</td>\n",
              "      <td>9984.000000</td>\n",
              "      <td>15840.000000</td>\n",
              "      <td>1.000000</td>\n",
              "    </tr>\n",
              "  </tbody>\n",
              "</table>\n",
              "<p>8 rows × 58 columns</p>\n",
              "</div>\n",
              "      <button class=\"colab-df-convert\" onclick=\"convertToInteractive('df-3cffa54c-7efb-420d-ad1b-b25581ca0905')\"\n",
              "              title=\"Convert this dataframe to an interactive table.\"\n",
              "              style=\"display:none;\">\n",
              "        \n",
              "  <svg xmlns=\"http://www.w3.org/2000/svg\" height=\"24px\"viewBox=\"0 0 24 24\"\n",
              "       width=\"24px\">\n",
              "    <path d=\"M0 0h24v24H0V0z\" fill=\"none\"/>\n",
              "    <path d=\"M18.56 5.44l.94 2.06.94-2.06 2.06-.94-2.06-.94-.94-2.06-.94 2.06-2.06.94zm-11 1L8.5 8.5l.94-2.06 2.06-.94-2.06-.94L8.5 2.5l-.94 2.06-2.06.94zm10 10l.94 2.06.94-2.06 2.06-.94-2.06-.94-.94-2.06-.94 2.06-2.06.94z\"/><path d=\"M17.41 7.96l-1.37-1.37c-.4-.4-.92-.59-1.43-.59-.52 0-1.04.2-1.43.59L10.3 9.45l-7.72 7.72c-.78.78-.78 2.05 0 2.83L4 21.41c.39.39.9.59 1.41.59.51 0 1.02-.2 1.41-.59l7.78-7.78 2.81-2.81c.8-.78.8-2.07 0-2.86zM5.41 20L4 18.59l7.72-7.72 1.47 1.35L5.41 20z\"/>\n",
              "  </svg>\n",
              "      </button>\n",
              "      \n",
              "  <style>\n",
              "    .colab-df-container {\n",
              "      display:flex;\n",
              "      flex-wrap:wrap;\n",
              "      gap: 12px;\n",
              "    }\n",
              "\n",
              "    .colab-df-convert {\n",
              "      background-color: #E8F0FE;\n",
              "      border: none;\n",
              "      border-radius: 50%;\n",
              "      cursor: pointer;\n",
              "      display: none;\n",
              "      fill: #1967D2;\n",
              "      height: 32px;\n",
              "      padding: 0 0 0 0;\n",
              "      width: 32px;\n",
              "    }\n",
              "\n",
              "    .colab-df-convert:hover {\n",
              "      background-color: #E2EBFA;\n",
              "      box-shadow: 0px 1px 2px rgba(60, 64, 67, 0.3), 0px 1px 3px 1px rgba(60, 64, 67, 0.15);\n",
              "      fill: #174EA6;\n",
              "    }\n",
              "\n",
              "    [theme=dark] .colab-df-convert {\n",
              "      background-color: #3B4455;\n",
              "      fill: #D2E3FC;\n",
              "    }\n",
              "\n",
              "    [theme=dark] .colab-df-convert:hover {\n",
              "      background-color: #434B5C;\n",
              "      box-shadow: 0px 1px 3px 1px rgba(0, 0, 0, 0.15);\n",
              "      filter: drop-shadow(0px 1px 2px rgba(0, 0, 0, 0.3));\n",
              "      fill: #FFFFFF;\n",
              "    }\n",
              "  </style>\n",
              "\n",
              "      <script>\n",
              "        const buttonEl =\n",
              "          document.querySelector('#df-3cffa54c-7efb-420d-ad1b-b25581ca0905 button.colab-df-convert');\n",
              "        buttonEl.style.display =\n",
              "          google.colab.kernel.accessAllowed ? 'block' : 'none';\n",
              "\n",
              "        async function convertToInteractive(key) {\n",
              "          const element = document.querySelector('#df-3cffa54c-7efb-420d-ad1b-b25581ca0905');\n",
              "          const dataTable =\n",
              "            await google.colab.kernel.invokeFunction('convertToInteractive',\n",
              "                                                     [key], {});\n",
              "          if (!dataTable) return;\n",
              "\n",
              "          const docLinkHtml = 'Like what you see? Visit the ' +\n",
              "            '<a target=\"_blank\" href=https://colab.research.google.com/notebooks/data_table.ipynb>data table notebook</a>'\n",
              "            + ' to learn more about interactive tables.';\n",
              "          element.innerHTML = '';\n",
              "          dataTable['output_type'] = 'display_data';\n",
              "          await google.colab.output.renderOutput(dataTable, element);\n",
              "          const docLink = document.createElement('div');\n",
              "          docLink.innerHTML = docLinkHtml;\n",
              "          element.appendChild(docLink);\n",
              "        }\n",
              "      </script>\n",
              "    </div>\n",
              "  </div>\n",
              "  "
            ]
          },
          "metadata": {},
          "execution_count": 57
        }
      ]
    },
    {
      "cell_type": "code",
      "source": [
        "# checking the distribution of Target Variable\n",
        "SpamDataset['spam'].value_counts()"
      ],
      "metadata": {
        "colab": {
          "base_uri": "https://localhost:8080/"
        },
        "id": "w5rvwRayMYFU",
        "outputId": "1b349842-5945-4a19-c406-a6eca995a01c"
      },
      "execution_count": 58,
      "outputs": [
        {
          "output_type": "execute_result",
          "data": {
            "text/plain": [
              "0    2788\n",
              "1    1812\n",
              "Name: spam, dtype: int64"
            ]
          },
          "metadata": {},
          "execution_count": 58
        }
      ]
    },
    {
      "cell_type": "markdown",
      "source": [
        "0 = not spam\n",
        "\n",
        "1 = spam"
      ],
      "metadata": {
        "id": "PaXsioYLMvNx"
      }
    },
    {
      "cell_type": "code",
      "source": [
        "SpamDataset.groupby('spam').mean()"
      ],
      "metadata": {
        "colab": {
          "base_uri": "https://localhost:8080/",
          "height": 236
        },
        "id": "vnpxBk1wMxCE",
        "outputId": "000723c1-92b1-4c4b-bf2b-43d99a8f21a0"
      },
      "execution_count": 59,
      "outputs": [
        {
          "output_type": "execute_result",
          "data": {
            "text/plain": [
              "      word_freq_make  word_freq_address  word_freq_all  word_freq_3d  \\\n",
              "spam                                                                   \n",
              "0           0.073480           0.244436       0.200576      0.000896   \n",
              "1           0.152551           0.164817       0.403907      0.164752   \n",
              "\n",
              "      word_freq_our  word_freq_over  word_freq_remove  word_freq_internet  \\\n",
              "spam                                                                        \n",
              "0          0.181044        0.044497          0.009379            0.038434   \n",
              "1          0.513806        0.174825          0.275695            0.208296   \n",
              "\n",
              "      word_freq_order  word_freq_mail  ...  word_freq_conference  char_freq_;  \\\n",
              "spam                                   ...                                      \n",
              "0            0.038031        0.167151  ...              0.051251     0.050203   \n",
              "1            0.170227        0.350879  ...              0.002110     0.020612   \n",
              "\n",
              "      char_freq_(  char_freq_[  char_freq_!  char_freq_$  char_freq_#  \\\n",
              "spam                                                                    \n",
              "0        0.158662     0.022647     0.109986     0.011619     0.021733   \n",
              "1        0.109126     0.008182     0.513923     0.174636     0.078912   \n",
              "\n",
              "      capital_run_length_average  capital_run_length_longest  \\\n",
              "spam                                                           \n",
              "0                       2.377306                   18.193687   \n",
              "1                       9.520518                  104.481788   \n",
              "\n",
              "      capital_run_length_total  \n",
              "spam                            \n",
              "0                   161.446915  \n",
              "1                   470.800773  \n",
              "\n",
              "[2 rows x 57 columns]"
            ],
            "text/html": [
              "\n",
              "  <div id=\"df-bc5a4a39-3d1f-4c4f-bd64-0f11b9470542\">\n",
              "    <div class=\"colab-df-container\">\n",
              "      <div>\n",
              "<style scoped>\n",
              "    .dataframe tbody tr th:only-of-type {\n",
              "        vertical-align: middle;\n",
              "    }\n",
              "\n",
              "    .dataframe tbody tr th {\n",
              "        vertical-align: top;\n",
              "    }\n",
              "\n",
              "    .dataframe thead th {\n",
              "        text-align: right;\n",
              "    }\n",
              "</style>\n",
              "<table border=\"1\" class=\"dataframe\">\n",
              "  <thead>\n",
              "    <tr style=\"text-align: right;\">\n",
              "      <th></th>\n",
              "      <th>word_freq_make</th>\n",
              "      <th>word_freq_address</th>\n",
              "      <th>word_freq_all</th>\n",
              "      <th>word_freq_3d</th>\n",
              "      <th>word_freq_our</th>\n",
              "      <th>word_freq_over</th>\n",
              "      <th>word_freq_remove</th>\n",
              "      <th>word_freq_internet</th>\n",
              "      <th>word_freq_order</th>\n",
              "      <th>word_freq_mail</th>\n",
              "      <th>...</th>\n",
              "      <th>word_freq_conference</th>\n",
              "      <th>char_freq_;</th>\n",
              "      <th>char_freq_(</th>\n",
              "      <th>char_freq_[</th>\n",
              "      <th>char_freq_!</th>\n",
              "      <th>char_freq_$</th>\n",
              "      <th>char_freq_#</th>\n",
              "      <th>capital_run_length_average</th>\n",
              "      <th>capital_run_length_longest</th>\n",
              "      <th>capital_run_length_total</th>\n",
              "    </tr>\n",
              "    <tr>\n",
              "      <th>spam</th>\n",
              "      <th></th>\n",
              "      <th></th>\n",
              "      <th></th>\n",
              "      <th></th>\n",
              "      <th></th>\n",
              "      <th></th>\n",
              "      <th></th>\n",
              "      <th></th>\n",
              "      <th></th>\n",
              "      <th></th>\n",
              "      <th></th>\n",
              "      <th></th>\n",
              "      <th></th>\n",
              "      <th></th>\n",
              "      <th></th>\n",
              "      <th></th>\n",
              "      <th></th>\n",
              "      <th></th>\n",
              "      <th></th>\n",
              "      <th></th>\n",
              "      <th></th>\n",
              "    </tr>\n",
              "  </thead>\n",
              "  <tbody>\n",
              "    <tr>\n",
              "      <th>0</th>\n",
              "      <td>0.073480</td>\n",
              "      <td>0.244436</td>\n",
              "      <td>0.200576</td>\n",
              "      <td>0.000896</td>\n",
              "      <td>0.181044</td>\n",
              "      <td>0.044497</td>\n",
              "      <td>0.009379</td>\n",
              "      <td>0.038434</td>\n",
              "      <td>0.038031</td>\n",
              "      <td>0.167151</td>\n",
              "      <td>...</td>\n",
              "      <td>0.051251</td>\n",
              "      <td>0.050203</td>\n",
              "      <td>0.158662</td>\n",
              "      <td>0.022647</td>\n",
              "      <td>0.109986</td>\n",
              "      <td>0.011619</td>\n",
              "      <td>0.021733</td>\n",
              "      <td>2.377306</td>\n",
              "      <td>18.193687</td>\n",
              "      <td>161.446915</td>\n",
              "    </tr>\n",
              "    <tr>\n",
              "      <th>1</th>\n",
              "      <td>0.152551</td>\n",
              "      <td>0.164817</td>\n",
              "      <td>0.403907</td>\n",
              "      <td>0.164752</td>\n",
              "      <td>0.513806</td>\n",
              "      <td>0.174825</td>\n",
              "      <td>0.275695</td>\n",
              "      <td>0.208296</td>\n",
              "      <td>0.170227</td>\n",
              "      <td>0.350879</td>\n",
              "      <td>...</td>\n",
              "      <td>0.002110</td>\n",
              "      <td>0.020612</td>\n",
              "      <td>0.109126</td>\n",
              "      <td>0.008182</td>\n",
              "      <td>0.513923</td>\n",
              "      <td>0.174636</td>\n",
              "      <td>0.078912</td>\n",
              "      <td>9.520518</td>\n",
              "      <td>104.481788</td>\n",
              "      <td>470.800773</td>\n",
              "    </tr>\n",
              "  </tbody>\n",
              "</table>\n",
              "<p>2 rows × 57 columns</p>\n",
              "</div>\n",
              "      <button class=\"colab-df-convert\" onclick=\"convertToInteractive('df-bc5a4a39-3d1f-4c4f-bd64-0f11b9470542')\"\n",
              "              title=\"Convert this dataframe to an interactive table.\"\n",
              "              style=\"display:none;\">\n",
              "        \n",
              "  <svg xmlns=\"http://www.w3.org/2000/svg\" height=\"24px\"viewBox=\"0 0 24 24\"\n",
              "       width=\"24px\">\n",
              "    <path d=\"M0 0h24v24H0V0z\" fill=\"none\"/>\n",
              "    <path d=\"M18.56 5.44l.94 2.06.94-2.06 2.06-.94-2.06-.94-.94-2.06-.94 2.06-2.06.94zm-11 1L8.5 8.5l.94-2.06 2.06-.94-2.06-.94L8.5 2.5l-.94 2.06-2.06.94zm10 10l.94 2.06.94-2.06 2.06-.94-2.06-.94-.94-2.06-.94 2.06-2.06.94z\"/><path d=\"M17.41 7.96l-1.37-1.37c-.4-.4-.92-.59-1.43-.59-.52 0-1.04.2-1.43.59L10.3 9.45l-7.72 7.72c-.78.78-.78 2.05 0 2.83L4 21.41c.39.39.9.59 1.41.59.51 0 1.02-.2 1.41-.59l7.78-7.78 2.81-2.81c.8-.78.8-2.07 0-2.86zM5.41 20L4 18.59l7.72-7.72 1.47 1.35L5.41 20z\"/>\n",
              "  </svg>\n",
              "      </button>\n",
              "      \n",
              "  <style>\n",
              "    .colab-df-container {\n",
              "      display:flex;\n",
              "      flex-wrap:wrap;\n",
              "      gap: 12px;\n",
              "    }\n",
              "\n",
              "    .colab-df-convert {\n",
              "      background-color: #E8F0FE;\n",
              "      border: none;\n",
              "      border-radius: 50%;\n",
              "      cursor: pointer;\n",
              "      display: none;\n",
              "      fill: #1967D2;\n",
              "      height: 32px;\n",
              "      padding: 0 0 0 0;\n",
              "      width: 32px;\n",
              "    }\n",
              "\n",
              "    .colab-df-convert:hover {\n",
              "      background-color: #E2EBFA;\n",
              "      box-shadow: 0px 1px 2px rgba(60, 64, 67, 0.3), 0px 1px 3px 1px rgba(60, 64, 67, 0.15);\n",
              "      fill: #174EA6;\n",
              "    }\n",
              "\n",
              "    [theme=dark] .colab-df-convert {\n",
              "      background-color: #3B4455;\n",
              "      fill: #D2E3FC;\n",
              "    }\n",
              "\n",
              "    [theme=dark] .colab-df-convert:hover {\n",
              "      background-color: #434B5C;\n",
              "      box-shadow: 0px 1px 3px 1px rgba(0, 0, 0, 0.15);\n",
              "      filter: drop-shadow(0px 1px 2px rgba(0, 0, 0, 0.3));\n",
              "      fill: #FFFFFF;\n",
              "    }\n",
              "  </style>\n",
              "\n",
              "      <script>\n",
              "        const buttonEl =\n",
              "          document.querySelector('#df-bc5a4a39-3d1f-4c4f-bd64-0f11b9470542 button.colab-df-convert');\n",
              "        buttonEl.style.display =\n",
              "          google.colab.kernel.accessAllowed ? 'block' : 'none';\n",
              "\n",
              "        async function convertToInteractive(key) {\n",
              "          const element = document.querySelector('#df-bc5a4a39-3d1f-4c4f-bd64-0f11b9470542');\n",
              "          const dataTable =\n",
              "            await google.colab.kernel.invokeFunction('convertToInteractive',\n",
              "                                                     [key], {});\n",
              "          if (!dataTable) return;\n",
              "\n",
              "          const docLinkHtml = 'Like what you see? Visit the ' +\n",
              "            '<a target=\"_blank\" href=https://colab.research.google.com/notebooks/data_table.ipynb>data table notebook</a>'\n",
              "            + ' to learn more about interactive tables.';\n",
              "          element.innerHTML = '';\n",
              "          dataTable['output_type'] = 'display_data';\n",
              "          await google.colab.output.renderOutput(dataTable, element);\n",
              "          const docLink = document.createElement('div');\n",
              "          docLink.innerHTML = docLinkHtml;\n",
              "          element.appendChild(docLink);\n",
              "        }\n",
              "      </script>\n",
              "    </div>\n",
              "  </div>\n",
              "  "
            ]
          },
          "metadata": {},
          "execution_count": 59
        }
      ]
    },
    {
      "cell_type": "markdown",
      "source": [
        "Separating the features and target"
      ],
      "metadata": {
        "id": "VYubITQPNGOo"
      }
    },
    {
      "cell_type": "code",
      "source": [
        "X=SpamDataset.drop(columns='spam',axis=1)\n",
        "Y=SpamDataset['spam']"
      ],
      "metadata": {
        "id": "Gctfp54ANA-m"
      },
      "execution_count": 60,
      "outputs": []
    },
    {
      "cell_type": "code",
      "source": [
        "print(X)\n",
        "print(Y)"
      ],
      "metadata": {
        "colab": {
          "base_uri": "https://localhost:8080/"
        },
        "id": "kuc9Ll3-NV-X",
        "outputId": "49177c90-ef56-4471-909a-ed77c57a94bf"
      },
      "execution_count": 61,
      "outputs": [
        {
          "output_type": "stream",
          "name": "stdout",
          "text": [
            "      word_freq_make  word_freq_address  word_freq_all  word_freq_3d  \\\n",
            "0              0.000              0.897          1.157           0.0   \n",
            "1              0.893              0.000          0.000           0.0   \n",
            "2              0.000              0.549          0.549           0.0   \n",
            "3              0.000              0.000          0.367           0.0   \n",
            "4              0.000              0.000          0.000           0.0   \n",
            "...              ...                ...            ...           ...   \n",
            "4595           0.740              0.000          0.370           0.0   \n",
            "4596           0.760              0.000          0.000           0.0   \n",
            "4597           0.000              0.000          0.000           0.0   \n",
            "4598           0.000              0.000          0.000           0.0   \n",
            "4599           0.000              0.000          0.000           0.0   \n",
            "\n",
            "      word_freq_our  word_freq_over  word_freq_remove  word_freq_internet  \\\n",
            "0             0.127           0.000             0.000               0.127   \n",
            "1             0.000           0.000             0.893               0.000   \n",
            "2             1.099           0.549             2.189               0.000   \n",
            "3             1.107           0.737             0.000               2.957   \n",
            "4             0.000           0.000             0.000               0.000   \n",
            "...             ...             ...               ...                 ...   \n",
            "4595          0.370           0.370             1.100               0.000   \n",
            "4596          0.000           0.000             0.000               0.000   \n",
            "4597          0.000           0.000             0.000               0.000   \n",
            "4598          0.000           0.000             0.000               0.000   \n",
            "4599          1.579           0.000             0.389               1.189   \n",
            "\n",
            "      word_freq_order  word_freq_mail  ...  word_freq_conference  char_freq_;  \\\n",
            "0               0.257           0.127  ...                 0.000        0.000   \n",
            "1               0.000           0.000  ...                 0.000        0.000   \n",
            "2               0.000           0.549  ...                 0.000        0.000   \n",
            "3               0.000           2.957  ...                 0.000        0.000   \n",
            "4               0.000           0.000  ...                 0.746        0.000   \n",
            "...               ...             ...  ...                   ...          ...   \n",
            "4595            0.000           0.000  ...                 0.000        0.000   \n",
            "4596            0.000           0.000  ...                 0.000        0.135   \n",
            "4597            0.000           0.000  ...                 0.000        0.000   \n",
            "4598            0.000           0.000  ...                 0.000        0.000   \n",
            "4599            0.000           0.389  ...                 0.000        0.000   \n",
            "\n",
            "      char_freq_(  char_freq_[  char_freq_!  char_freq_$  char_freq_#  \\\n",
            "0           0.192          0.0        0.377        0.068        0.000   \n",
            "1           0.000          0.0        0.557        0.000        0.000   \n",
            "2           0.166          0.0        0.480        0.000        0.087   \n",
            "3           0.146          0.0        1.093        0.000        0.000   \n",
            "4           0.274          0.0        0.140        0.000        0.000   \n",
            "...           ...          ...          ...          ...          ...   \n",
            "4595        0.193          0.0        0.437        0.071        0.000   \n",
            "4596        0.000          0.0        0.000        0.000        0.000   \n",
            "4597        0.000          0.0        0.000        0.000        0.000   \n",
            "4598        0.358          0.0        0.000        0.000        0.000   \n",
            "4599        0.000          0.0        0.704        0.210        0.000   \n",
            "\n",
            "      capital_run_length_average  capital_run_length_longest  \\\n",
            "0                          2.885                          87   \n",
            "1                          2.811                          16   \n",
            "2                         15.089                         151   \n",
            "3                          5.157                         105   \n",
            "4                          2.756                           8   \n",
            "...                          ...                         ...   \n",
            "4595                       4.430                         197   \n",
            "4596                       1.411                           5   \n",
            "4597                       0.991                           1   \n",
            "4598                       1.469                           6   \n",
            "4599                       1.902                          13   \n",
            "\n",
            "      capital_run_length_total  \n",
            "0                          478  \n",
            "1                           59  \n",
            "2                          381  \n",
            "3                          287  \n",
            "4                           25  \n",
            "...                        ...  \n",
            "4595                       310  \n",
            "4596                        24  \n",
            "4597                         5  \n",
            "4598                        23  \n",
            "4599                       118  \n",
            "\n",
            "[4600 rows x 57 columns]\n",
            "0       1\n",
            "1       1\n",
            "2       1\n",
            "3       1\n",
            "4       0\n",
            "       ..\n",
            "4595    1\n",
            "4596    0\n",
            "4597    0\n",
            "4598    0\n",
            "4599    1\n",
            "Name: spam, Length: 4600, dtype: int64\n"
          ]
        }
      ]
    },
    {
      "cell_type": "markdown",
      "source": [
        "Splitting the data into training data & Testing data"
      ],
      "metadata": {
        "id": "MgK-egc8NeS_"
      }
    },
    {
      "cell_type": "code",
      "source": [
        "X_train, X_test, Y_train, Y_test=train_test_split(X,Y,test_size=1000,random_state=None)"
      ],
      "metadata": {
        "id": "7RlCWxBvNcAR"
      },
      "execution_count": 62,
      "outputs": []
    },
    {
      "cell_type": "code",
      "source": [
        "print(X.shape,X_train.shape,X_test.shape)"
      ],
      "metadata": {
        "colab": {
          "base_uri": "https://localhost:8080/"
        },
        "id": "V7lKHMosOqOK",
        "outputId": "3b038226-5c77-4aa2-8350-3e69d00ebd18"
      },
      "execution_count": 63,
      "outputs": [
        {
          "output_type": "stream",
          "name": "stdout",
          "text": [
            "(4600, 57) (3600, 57) (1000, 57)\n"
          ]
        }
      ]
    },
    {
      "cell_type": "markdown",
      "source": [
        "Standardize the data"
      ],
      "metadata": {
        "id": "t1oyVA4iOyke"
      }
    },
    {
      "cell_type": "code",
      "source": [
        "from sklearn.preprocessing import StandardScaler"
      ],
      "metadata": {
        "id": "nDTTVh5YO1g8"
      },
      "execution_count": 64,
      "outputs": []
    },
    {
      "cell_type": "code",
      "source": [
        "scaler=StandardScaler()\n",
        "X_train_std=scaler.fit_transform(X_train)\n",
        "X_test_std=scaler.transform(X_test)"
      ],
      "metadata": {
        "id": "KaUE5Mb3O-Xn"
      },
      "execution_count": 65,
      "outputs": []
    },
    {
      "cell_type": "markdown",
      "source": [
        "**Building the Neural Network model**"
      ],
      "metadata": {
        "id": "IX4k8THsPT3A"
      }
    },
    {
      "cell_type": "code",
      "source": [
        "# importing tensorflow and keras\n",
        "import tensorflow as tf\n",
        "tf.random.set_seed(3)\n",
        "from tensorflow import keras\n"
      ],
      "metadata": {
        "id": "23p2P2-mPZHe"
      },
      "execution_count": 66,
      "outputs": []
    },
    {
      "cell_type": "code",
      "source": [
        "# setting up the layers of Neural Network\n",
        "\n",
        "model=keras.Sequential([\n",
        "    keras.layers.Flatten(input_shape=(57,)),\n",
        "    keras.layers.Dense(40,activation='relu'),\n",
        "    keras.layers.Dense(2,activation='sigmoid')\n",
        "                        ])"
      ],
      "metadata": {
        "id": "3z50m9pjPtD-"
      },
      "execution_count": 67,
      "outputs": []
    },
    {
      "cell_type": "code",
      "source": [
        "from keras.engine.training import optimizer\n",
        "# compiling the Neural Network\n",
        "\n",
        "model.compile(optimizer='adam',\n",
        "              loss='sparse_categorical_crossentropy',\n",
        "              metrics=['accuracy'])"
      ],
      "metadata": {
        "id": "D41_GLp2QbyZ"
      },
      "execution_count": 68,
      "outputs": []
    },
    {
      "cell_type": "code",
      "source": [
        "# training the Neural Network\n",
        "history=model.fit(X_train_std,Y_train,validation_split=0.1,epochs=25)"
      ],
      "metadata": {
        "colab": {
          "base_uri": "https://localhost:8080/"
        },
        "id": "KzNpd6AtQ0at",
        "outputId": "e6a03243-66e0-4443-b5a9-f93863441281"
      },
      "execution_count": 69,
      "outputs": [
        {
          "output_type": "stream",
          "name": "stdout",
          "text": [
            "Epoch 1/25\n",
            "102/102 [==============================] - 3s 4ms/step - loss: 0.4063 - accuracy: 0.8364 - val_loss: 0.2527 - val_accuracy: 0.9222\n",
            "Epoch 2/25\n",
            "102/102 [==============================] - 0s 2ms/step - loss: 0.2540 - accuracy: 0.9176 - val_loss: 0.1960 - val_accuracy: 0.9361\n",
            "Epoch 3/25\n",
            "102/102 [==============================] - 0s 2ms/step - loss: 0.2179 - accuracy: 0.9287 - val_loss: 0.1705 - val_accuracy: 0.9583\n",
            "Epoch 4/25\n",
            "102/102 [==============================] - 0s 2ms/step - loss: 0.1973 - accuracy: 0.9318 - val_loss: 0.1556 - val_accuracy: 0.9583\n",
            "Epoch 5/25\n",
            "102/102 [==============================] - 0s 2ms/step - loss: 0.1835 - accuracy: 0.9361 - val_loss: 0.1470 - val_accuracy: 0.9611\n",
            "Epoch 6/25\n",
            "102/102 [==============================] - 0s 2ms/step - loss: 0.1728 - accuracy: 0.9386 - val_loss: 0.1422 - val_accuracy: 0.9611\n",
            "Epoch 7/25\n",
            "102/102 [==============================] - 0s 2ms/step - loss: 0.1642 - accuracy: 0.9398 - val_loss: 0.1400 - val_accuracy: 0.9583\n",
            "Epoch 8/25\n",
            "102/102 [==============================] - 0s 3ms/step - loss: 0.1585 - accuracy: 0.9423 - val_loss: 0.1363 - val_accuracy: 0.9639\n",
            "Epoch 9/25\n",
            "102/102 [==============================] - 0s 2ms/step - loss: 0.1522 - accuracy: 0.9441 - val_loss: 0.1361 - val_accuracy: 0.9611\n",
            "Epoch 10/25\n",
            "102/102 [==============================] - 0s 2ms/step - loss: 0.1469 - accuracy: 0.9460 - val_loss: 0.1338 - val_accuracy: 0.9611\n",
            "Epoch 11/25\n",
            "102/102 [==============================] - 0s 2ms/step - loss: 0.1419 - accuracy: 0.9497 - val_loss: 0.1320 - val_accuracy: 0.9611\n",
            "Epoch 12/25\n",
            "102/102 [==============================] - 0s 2ms/step - loss: 0.1382 - accuracy: 0.9506 - val_loss: 0.1320 - val_accuracy: 0.9639\n",
            "Epoch 13/25\n",
            "102/102 [==============================] - 0s 2ms/step - loss: 0.1340 - accuracy: 0.9531 - val_loss: 0.1348 - val_accuracy: 0.9583\n",
            "Epoch 14/25\n",
            "102/102 [==============================] - 0s 2ms/step - loss: 0.1305 - accuracy: 0.9534 - val_loss: 0.1371 - val_accuracy: 0.9444\n",
            "Epoch 15/25\n",
            "102/102 [==============================] - 0s 2ms/step - loss: 0.1266 - accuracy: 0.9562 - val_loss: 0.1331 - val_accuracy: 0.9556\n",
            "Epoch 16/25\n",
            "102/102 [==============================] - 0s 2ms/step - loss: 0.1242 - accuracy: 0.9574 - val_loss: 0.1396 - val_accuracy: 0.9444\n",
            "Epoch 17/25\n",
            "102/102 [==============================] - 0s 2ms/step - loss: 0.1215 - accuracy: 0.9580 - val_loss: 0.1403 - val_accuracy: 0.9556\n",
            "Epoch 18/25\n",
            "102/102 [==============================] - 0s 2ms/step - loss: 0.1194 - accuracy: 0.9596 - val_loss: 0.1370 - val_accuracy: 0.9500\n",
            "Epoch 19/25\n",
            "102/102 [==============================] - 0s 2ms/step - loss: 0.1154 - accuracy: 0.9586 - val_loss: 0.1379 - val_accuracy: 0.9528\n",
            "Epoch 20/25\n",
            "102/102 [==============================] - 0s 2ms/step - loss: 0.1124 - accuracy: 0.9605 - val_loss: 0.1391 - val_accuracy: 0.9500\n",
            "Epoch 21/25\n",
            "102/102 [==============================] - 0s 2ms/step - loss: 0.1096 - accuracy: 0.9617 - val_loss: 0.1433 - val_accuracy: 0.9556\n",
            "Epoch 22/25\n",
            "102/102 [==============================] - 0s 2ms/step - loss: 0.1083 - accuracy: 0.9623 - val_loss: 0.1427 - val_accuracy: 0.9500\n",
            "Epoch 23/25\n",
            "102/102 [==============================] - 0s 2ms/step - loss: 0.1057 - accuracy: 0.9639 - val_loss: 0.1437 - val_accuracy: 0.9500\n",
            "Epoch 24/25\n",
            "102/102 [==============================] - 0s 2ms/step - loss: 0.1046 - accuracy: 0.9645 - val_loss: 0.1437 - val_accuracy: 0.9500\n",
            "Epoch 25/25\n",
            "102/102 [==============================] - 0s 2ms/step - loss: 0.1012 - accuracy: 0.9654 - val_loss: 0.1467 - val_accuracy: 0.9528\n"
          ]
        }
      ]
    },
    {
      "cell_type": "markdown",
      "source": [
        "Visualizing accuracy and loss"
      ],
      "metadata": {
        "id": "H_cGuAMNR0Su"
      }
    },
    {
      "cell_type": "code",
      "source": [
        "plt.plot(history.history['accuracy'])\n",
        "plt.plot(history.history['val_accuracy'])\n",
        "\n",
        "plt.title('model accuracy')\n",
        "plt.ylabel('accuracy')\n",
        "plt.xlabel('epoch')\n",
        "\n",
        "plt.legend(['training data','validation data'],loc='lower right')"
      ],
      "metadata": {
        "colab": {
          "base_uri": "https://localhost:8080/",
          "height": 490
        },
        "id": "_WpT8pZDRyGz",
        "outputId": "74a523cf-9063-461f-c4ba-f2db173fa4a2"
      },
      "execution_count": 70,
      "outputs": [
        {
          "output_type": "execute_result",
          "data": {
            "text/plain": [
              "<matplotlib.legend.Legend at 0x7f02e7bf8fd0>"
            ]
          },
          "metadata": {},
          "execution_count": 70
        },
        {
          "output_type": "display_data",
          "data": {
            "text/plain": [
              "<Figure size 640x480 with 1 Axes>"
            ],
            "image/png": "[encoded data removed]"
          },
          "metadata": {}
        }
      ]
    },
    {
      "cell_type": "code",
      "source": [
        "plt.plot(history.history['loss'])\n",
        "plt.plot(history.history['val_loss'])\n",
        "\n",
        "plt.title('model loss')\n",
        "plt.ylabel('loss')\n",
        "plt.xlabel('epoch')\n",
        "\n",
        "plt.legend(['training data','validation data'],loc='upper right')"
      ],
      "metadata": {
        "colab": {
          "base_uri": "https://localhost:8080/",
          "height": 490
        },
        "id": "OJPHeOgPSsqs",
        "outputId": "ef0f9b0b-faa2-4854-e458-e7308b8bc016"
      },
      "execution_count": 71,
      "outputs": [
        {
          "output_type": "execute_result",
          "data": {
            "text/plain": [
              "<matplotlib.legend.Legend at 0x7f02e7d84f70>"
            ]
          },
          "metadata": {},
          "execution_count": 71
        },
        {
          "output_type": "display_data",
          "data": {
            "text/plain": [
              "<Figure size 640x480 with 1 Axes>"
            ],
            "image/png": "[encoded data removed]"
          },
          "metadata": {}
        }
      ]
    },
    {
      "cell_type": "markdown",
      "source": [
        "Accuracy of the model on test data"
      ],
      "metadata": {
        "id": "qF5QBPLLTOvA"
      }
    },
    {
      "cell_type": "code",
      "source": [
        "loss,accuracy=model.evaluate(X_test_std,Y_test)\n",
        "print(accuracy)"
      ],
      "metadata": {
        "colab": {
          "base_uri": "https://localhost:8080/"
        },
        "id": "MwQn5w_uTUIj",
        "outputId": "dfefd882-9e2c-49a7-b1c6-d93410be88c4"
      },
      "execution_count": 72,
      "outputs": [
        {
          "output_type": "stream",
          "name": "stdout",
          "text": [
            "32/32 [==============================] - 0s 2ms/step - loss: 0.1743 - accuracy: 0.9450\n",
            "0.9449999928474426\n"
          ]
        }
      ]
    },
    {
      "cell_type": "code",
      "source": [
        "print(X_test_std.shape)\n",
        "print(X_test_std[0])"
      ],
      "metadata": {
        "colab": {
          "base_uri": "https://localhost:8080/"
        },
        "id": "dU1RIsQoTioJ",
        "outputId": "0068b7b7-ec33-44fc-d9d4-513518d0101d"
      },
      "execution_count": 73,
      "outputs": [
        {
          "output_type": "stream",
          "name": "stdout",
          "text": [
            "(1000, 57)\n",
            "[-0.34508515 -0.16210062 -0.56269751 -0.04346785 -0.47324347 -0.36195398\n",
            " -0.29576336 -0.26406929 -0.31593698 -0.39769782 -0.29567741 -0.63637974\n",
            " -0.31850119 -0.18431326 -0.18794277 -0.30195864 -0.31578598 -0.34609402\n",
            " -0.94185195 -0.1659606  -0.67509773 -0.11922863 -0.29548389 -0.22526268\n",
            " -0.31988553 -0.28979723 -0.22492811 -0.23808761 -0.16222514 -0.22307153\n",
            " -0.15745742 -0.14309592 -0.16563078 -0.14529443 -0.19449125 -0.24335305\n",
            " -0.3178718  -0.05983305 -0.18388838 -0.18755413 -0.12008189  6.44262115\n",
            " -0.20277625 -0.13548153 -0.30048581 -0.18893515 -0.07476381 -0.11440941\n",
            " -0.15810401 -0.4919019  -0.15226231 -0.40116127 -0.30523061 -0.10517577\n",
            " -0.12853469 -0.24862647 -0.44533492]\n"
          ]
        }
      ]
    },
    {
      "cell_type": "code",
      "source": [
        "Y_pred=model.predict(X_test_std)"
      ],
      "metadata": {
        "colab": {
          "base_uri": "https://localhost:8080/"
        },
        "id": "W2SonoYwTtlm",
        "outputId": "69f51f8d-08c2-465b-9b41-1e1371ac4f40"
      },
      "execution_count": 74,
      "outputs": [
        {
          "output_type": "stream",
          "name": "stdout",
          "text": [
            "32/32 [==============================] - 0s 2ms/step\n"
          ]
        }
      ]
    },
    {
      "cell_type": "code",
      "source": [
        "print(Y_pred.shape)\n",
        "print(Y_pred[0])"
      ],
      "metadata": {
        "colab": {
          "base_uri": "https://localhost:8080/"
        },
        "id": "x2ypd8uBT25g",
        "outputId": "e69ec991-c607-4579-b4f2-693a947a2cfb"
      },
      "execution_count": 75,
      "outputs": [
        {
          "output_type": "stream",
          "name": "stdout",
          "text": [
            "(1000, 2)\n",
            "[9.9998856e-01 5.5156345e-04]\n"
          ]
        }
      ]
    },
    {
      "cell_type": "code",
      "source": [
        "print(X_test_std)"
      ],
      "metadata": {
        "colab": {
          "base_uri": "https://localhost:8080/"
        },
        "id": "WWyN-v9vUC_x",
        "outputId": "f495dd30-573a-4b0f-b313-793b6147bec7"
      },
      "execution_count": 76,
      "outputs": [
        {
          "output_type": "stream",
          "name": "stdout",
          "text": [
            "[[-0.34508515 -0.16210062 -0.56269751 ... -0.12853469 -0.24862647\n",
            "  -0.44533492]\n",
            " [ 0.19277719 -0.16210062 -0.22731361 ... -0.02700663  0.14544722\n",
            "   0.99932462]\n",
            " [-0.00930982 -0.16210062  0.80985628 ...  0.12629128  0.46830276\n",
            "   1.37053302]\n",
            " ...\n",
            " [-0.34508515 -0.16210062 -0.56269751 ... -0.09291704 -0.20589559\n",
            "  -0.25089242]\n",
            " [-0.34508515  0.10228576  0.78271539 ... -0.05792062  0.00775882\n",
            "  -0.16733036]\n",
            " [ 0.07774304 -0.05757577 -0.00824782 ... -0.07046371  0.08372483\n",
            "   0.18298753]]\n"
          ]
        }
      ]
    },
    {
      "cell_type": "code",
      "source": [
        "print(Y_pred)"
      ],
      "metadata": {
        "colab": {
          "base_uri": "https://localhost:8080/"
        },
        "id": "ZDK-A8cuULu2",
        "outputId": "cd7470d6-85c6-4824-e4a6-3508b36b68d7"
      },
      "execution_count": 77,
      "outputs": [
        {
          "output_type": "stream",
          "name": "stdout",
          "text": [
            "[[9.9998856e-01 5.5156345e-04]\n",
            " [8.5115486e-01 9.0483353e-02]\n",
            " [3.6251128e-02 8.5269189e-01]\n",
            " ...\n",
            " [9.9999964e-01 3.5129567e-08]\n",
            " [1.6520204e-01 8.7054259e-01]\n",
            " [5.7379812e-02 7.7812999e-01]]\n"
          ]
        }
      ]
    },
    {
      "cell_type": "markdown",
      "source": [
        "model.predict()gives the prediction probability of each class for that data point"
      ],
      "metadata": {
        "id": "alXArQymUTgO"
      }
    },
    {
      "cell_type": "code",
      "source": [
        "# converting the prediction probability to the class labels\n",
        "\n",
        "Y_pred_labels=[np.argmax(i) for i in Y_pred]\n",
        "print(Y_pred_labels)\n"
      ],
      "metadata": {
        "colab": {
          "base_uri": "https://localhost:8080/"
        },
        "id": "1nC32DA-UgAb",
        "outputId": "165332de-e754-485c-a277-3ef613cf6a50"
      },
      "execution_count": 78,
      "outputs": [
        {
          "output_type": "stream",
          "name": "stdout",
          "text": [
            "[0, 0, 1, 0, 0, 1, 0, 0, 1, 0, 0, 0, 0, 0, 0, 0, 0, 1, 1, 0, 0, 0, 0, 0, 0, 0, 0, 0, 0, 1, 0, 1, 0, 0, 1, 0, 0, 1, 0, 1, 1, 1, 1, 0, 1, 1, 0, 1, 0, 0, 0, 0, 0, 0, 0, 0, 1, 0, 1, 0, 1, 0, 0, 1, 0, 1, 0, 1, 0, 0, 0, 1, 1, 0, 1, 0, 1, 0, 0, 0, 0, 0, 1, 0, 1, 1, 0, 1, 0, 0, 1, 0, 0, 0, 1, 0, 0, 1, 0, 0, 0, 0, 0, 1, 0, 0, 1, 0, 0, 0, 0, 1, 0, 0, 0, 0, 0, 1, 0, 1, 0, 1, 0, 1, 0, 0, 0, 0, 0, 0, 0, 1, 1, 0, 0, 0, 0, 0, 1, 1, 0, 0, 0, 1, 0, 1, 1, 0, 0, 0, 1, 1, 0, 1, 0, 1, 1, 0, 1, 1, 0, 0, 1, 0, 1, 1, 0, 0, 1, 0, 1, 0, 1, 0, 0, 0, 0, 1, 1, 0, 1, 1, 0, 1, 0, 0, 0, 0, 1, 0, 0, 0, 1, 0, 0, 0, 0, 0, 0, 0, 0, 0, 0, 0, 1, 0, 1, 0, 0, 1, 0, 1, 0, 1, 0, 1, 1, 0, 0, 1, 0, 1, 0, 0, 1, 0, 1, 0, 1, 0, 1, 0, 0, 0, 0, 1, 0, 1, 0, 0, 1, 1, 1, 0, 1, 1, 0, 0, 0, 0, 1, 1, 1, 0, 0, 1, 0, 0, 1, 0, 0, 0, 0, 1, 0, 0, 1, 1, 1, 0, 0, 0, 1, 0, 0, 1, 0, 1, 1, 1, 0, 0, 0, 0, 0, 0, 1, 0, 0, 0, 0, 0, 0, 0, 1, 0, 1, 1, 0, 0, 0, 0, 0, 0, 1, 0, 0, 0, 1, 0, 0, 0, 0, 0, 1, 0, 0, 1, 0, 0, 0, 0, 1, 0, 0, 1, 1, 1, 0, 0, 1, 1, 1, 1, 1, 0, 0, 0, 1, 0, 0, 1, 0, 0, 0, 0, 1, 0, 1, 1, 0, 0, 0, 0, 0, 0, 0, 1, 0, 0, 0, 0, 0, 1, 0, 0, 0, 0, 1, 1, 0, 1, 0, 0, 0, 0, 1, 1, 0, 1, 1, 1, 1, 1, 0, 0, 1, 1, 1, 0, 0, 1, 0, 0, 0, 1, 0, 0, 1, 0, 0, 1, 1, 1, 1, 0, 1, 0, 0, 0, 0, 0, 0, 0, 0, 1, 0, 0, 0, 0, 0, 0, 0, 0, 1, 0, 0, 0, 1, 0, 0, 1, 0, 0, 0, 0, 0, 0, 1, 0, 0, 1, 1, 1, 1, 0, 1, 1, 0, 1, 1, 0, 0, 1, 1, 0, 1, 0, 0, 0, 0, 0, 0, 0, 1, 1, 0, 1, 0, 0, 0, 0, 0, 0, 0, 0, 0, 1, 0, 1, 1, 1, 1, 0, 1, 0, 1, 0, 0, 1, 0, 0, 0, 0, 0, 0, 1, 0, 0, 0, 1, 1, 1, 0, 0, 0, 1, 1, 0, 0, 0, 1, 1, 0, 1, 1, 1, 0, 1, 0, 0, 1, 1, 0, 1, 0, 0, 1, 0, 0, 1, 1, 0, 1, 1, 0, 0, 0, 1, 0, 0, 0, 0, 0, 0, 1, 1, 1, 0, 0, 1, 1, 1, 0, 0, 0, 1, 0, 1, 0, 0, 0, 1, 0, 0, 0, 1, 0, 1, 0, 0, 0, 0, 0, 1, 0, 0, 0, 1, 0, 0, 1, 1, 1, 0, 1, 0, 0, 0, 0, 1, 1, 0, 0, 0, 1, 0, 1, 1, 0, 1, 0, 0, 0, 1, 1, 0, 1, 1, 1, 1, 1, 0, 0, 1, 1, 1, 1, 1, 1, 1, 1, 1, 1, 0, 0, 0, 1, 1, 0, 0, 1, 0, 0, 0, 1, 1, 1, 1, 0, 1, 0, 0, 0, 1, 1, 0, 0, 0, 0, 1, 1, 0, 0, 1, 0, 0, 1, 0, 0, 0, 0, 0, 0, 1, 0, 1, 0, 0, 0, 0, 0, 1, 0, 1, 0, 0, 1, 0, 1, 0, 0, 0, 1, 0, 1, 0, 0, 1, 1, 1, 1, 1, 0, 0, 0, 1, 1, 1, 0, 0, 0, 0, 0, 1, 0, 1, 1, 1, 1, 0, 1, 0, 0, 1, 0, 0, 0, 1, 0, 0, 0, 1, 0, 0, 1, 0, 1, 0, 0, 0, 0, 1, 0, 0, 0, 1, 1, 0, 0, 1, 0, 0, 0, 1, 1, 0, 0, 0, 0, 1, 0, 1, 0, 0, 0, 0, 0, 1, 1, 0, 0, 0, 1, 1, 0, 1, 0, 1, 1, 0, 0, 0, 0, 0, 0, 0, 0, 1, 0, 0, 1, 1, 0, 0, 1, 1, 0, 0, 1, 1, 0, 1, 1, 1, 0, 1, 1, 0, 1, 1, 0, 1, 1, 1, 0, 1, 0, 0, 0, 0, 0, 0, 0, 1, 1, 1, 1, 1, 0, 0, 0, 0, 1, 0, 1, 1, 0, 0, 0, 0, 1, 0, 0, 0, 0, 0, 0, 0, 0, 1, 0, 0, 0, 0, 1, 1, 1, 0, 1, 0, 0, 0, 0, 0, 1, 0, 0, 0, 0, 1, 0, 0, 0, 0, 1, 0, 0, 0, 1, 1, 1, 0, 0, 1, 1, 1, 1, 1, 0, 1, 1, 0, 0, 0, 1, 0, 0, 0, 0, 1, 0, 0, 0, 0, 0, 0, 0, 0, 1, 1, 0, 0, 1, 0, 0, 0, 1, 0, 0, 1, 0, 1, 1, 0, 1, 0, 0, 1, 1, 0, 0, 1, 0, 0, 0, 0, 1, 1, 1, 0, 1, 0, 1, 0, 0, 1, 1, 0, 1, 1, 0, 1, 0, 0, 0, 0, 0, 1, 1, 1, 0, 0, 0, 1, 0, 0, 1, 0, 1, 1, 0, 0, 0, 1, 0, 1, 1, 0, 1, 1, 0, 0, 0, 1, 0, 0, 1, 0, 0, 0, 0, 0, 0, 1, 0, 0, 1, 0, 0, 1, 0, 0, 0, 0, 0, 1, 0, 1, 1]\n"
          ]
        }
      ]
    },
    {
      "cell_type": "markdown",
      "source": [
        "Building the predictive system"
      ],
      "metadata": {
        "id": "KTyqDvB6U5h9"
      }
    },
    {
      "cell_type": "code",
      "source": [
        "input_data=(0,0,0,0,0,0,0,0,0,0,0,0,0,0,0,0,0,0,2.966,0,1.486,0,0,0,0,0,0,0,0,0,0,0,0,0,0,0,0,0,0,0,0,0,0,0,0,0,0,0.746,0,0.274,0,0.14,0,0,2.756,8,25)\n",
        "\n",
        "# change the input_data to a numpy array\n",
        "input_data_as_numpy_array=np.asarray(input_data)\n",
        "\n",
        "# reshape the numpy array as we are predicting for one data point\n",
        "input_data_reshape=input_data_as_numpy_array.reshape(1,-1)\n",
        "\n",
        "# standardizing the input data\n",
        "input_data_std=scaler.transform(input_data_reshape)\n",
        "\n",
        "prediction= model.predict(input_data_std)\n",
        "print(prediction)\n",
        "\n",
        "prediction_label=[np.argmax(prediction)]\n",
        "print(prediction_label)\n",
        "\n",
        "if (prediction_label[0]==0):\n",
        "  print('The email is ham.')\n",
        "\n",
        "else:\n",
        "    print('The email is spam.')"
      ],
      "metadata": {
        "colab": {
          "base_uri": "https://localhost:8080/"
        },
        "id": "TKKNCFuCVcyu",
        "outputId": "29348977-fac9-4217-a8a8-6c23a27a2191"
      },
      "execution_count": 79,
      "outputs": [
        {
          "output_type": "stream",
          "name": "stdout",
          "text": [
            "1/1 [==============================] - 0s 21ms/step\n",
            "[[0.9272181  0.11107052]]\n",
            "[0]\n",
            "The email is ham.\n"
          ]
        },
        {
          "output_type": "stream",
          "name": "stderr",
          "text": [
            "/usr/local/lib/python3.9/dist-packages/sklearn/base.py:439: UserWarning: X does not have valid feature names, but StandardScaler was fitted with feature names\n",
            "  warnings.warn(\n"
          ]
        }
      ]
    },
    {
      "cell_type": "markdown",
      "source": [
        "**Building the Logistic Regression model**"
      ],
      "metadata": {
        "id": "mI0FcyG0JhTR"
      }
    },
    {
      "cell_type": "code",
      "source": [
        "from sklearn.linear_model import LogisticRegression\n",
        "from sklearn.metrics import accuracy_score"
      ],
      "metadata": {
        "id": "5M4WNoWAJyGi"
      },
      "execution_count": 80,
      "outputs": []
    },
    {
      "cell_type": "markdown",
      "source": [
        "Model Training"
      ],
      "metadata": {
        "id": "WnSQWIMGKl70"
      }
    },
    {
      "cell_type": "code",
      "source": [
        "model=LogisticRegression()"
      ],
      "metadata": {
        "id": "Z8E6tVbvKKfa"
      },
      "execution_count": 81,
      "outputs": []
    },
    {
      "cell_type": "code",
      "source": [
        "# training the Logistic Regression model using Training data\n",
        "model.fit(X_train_std,Y_train)"
      ],
      "metadata": {
        "colab": {
          "base_uri": "https://localhost:8080/",
          "height": 74
        },
        "id": "B0hjkXIbKs_S",
        "outputId": "902aa8ac-6dd0-4a09-bc6d-567c3fe986d9"
      },
      "execution_count": 82,
      "outputs": [
        {
          "output_type": "execute_result",
          "data": {
            "text/plain": [
              "LogisticRegression()"
            ],
            "text/html": [
              "<style>#sk-container-id-2 {color: black;background-color: white;}#sk-container-id-2 pre{padding: 0;}#sk-container-id-2 div.sk-toggleable {background-color: white;}#sk-container-id-2 label.sk-toggleable__label {cursor: pointer;display: block;width: 100%;margin-bottom: 0;padding: 0.3em;box-sizing: border-box;text-align: center;}#sk-container-id-2 label.sk-toggleable__label-arrow:before {content: \"▸\";float: left;margin-right: 0.25em;color: #696969;}#sk-container-id-2 label.sk-toggleable__label-arrow:hover:before {color: black;}#sk-container-id-2 div.sk-estimator:hover label.sk-toggleable__label-arrow:before {color: black;}#sk-container-id-2 div.sk-toggleable__content {max-height: 0;max-width: 0;overflow: hidden;text-align: left;background-color: #f0f8ff;}#sk-container-id-2 div.sk-toggleable__content pre {margin: 0.2em;color: black;border-radius: 0.25em;background-color: #f0f8ff;}#sk-container-id-2 input.sk-toggleable__control:checked~div.sk-toggleable__content {max-height: 200px;max-width: 100%;overflow: auto;}#sk-container-id-2 input.sk-toggleable__control:checked~label.sk-toggleable__label-arrow:before {content: \"▾\";}#sk-container-id-2 div.sk-estimator input.sk-toggleable__control:checked~label.sk-toggleable__label {background-color: #d4ebff;}#sk-container-id-2 div.sk-label input.sk-toggleable__control:checked~label.sk-toggleable__label {background-color: #d4ebff;}#sk-container-id-2 input.sk-hidden--visually {border: 0;clip: rect(1px 1px 1px 1px);clip: rect(1px, 1px, 1px, 1px);height: 1px;margin: -1px;overflow: hidden;padding: 0;position: absolute;width: 1px;}#sk-container-id-2 div.sk-estimator {font-family: monospace;background-color: #f0f8ff;border: 1px dotted black;border-radius: 0.25em;box-sizing: border-box;margin-bottom: 0.5em;}#sk-container-id-2 div.sk-estimator:hover {background-color: #d4ebff;}#sk-container-id-2 div.sk-parallel-item::after {content: \"\";width: 100%;border-bottom: 1px solid gray;flex-grow: 1;}#sk-container-id-2 div.sk-label:hover label.sk-toggleable__label {background-color: #d4ebff;}#sk-container-id-2 div.sk-serial::before {content: \"\";position: absolute;border-left: 1px solid gray;box-sizing: border-box;top: 0;bottom: 0;left: 50%;z-index: 0;}#sk-container-id-2 div.sk-serial {display: flex;flex-direction: column;align-items: center;background-color: white;padding-right: 0.2em;padding-left: 0.2em;position: relative;}#sk-container-id-2 div.sk-item {position: relative;z-index: 1;}#sk-container-id-2 div.sk-parallel {display: flex;align-items: stretch;justify-content: center;background-color: white;position: relative;}#sk-container-id-2 div.sk-item::before, #sk-container-id-2 div.sk-parallel-item::before {content: \"\";position: absolute;border-left: 1px solid gray;box-sizing: border-box;top: 0;bottom: 0;left: 50%;z-index: -1;}#sk-container-id-2 div.sk-parallel-item {display: flex;flex-direction: column;z-index: 1;position: relative;background-color: white;}#sk-container-id-2 div.sk-parallel-item:first-child::after {align-self: flex-end;width: 50%;}#sk-container-id-2 div.sk-parallel-item:last-child::after {align-self: flex-start;width: 50%;}#sk-container-id-2 div.sk-parallel-item:only-child::after {width: 0;}#sk-container-id-2 div.sk-dashed-wrapped {border: 1px dashed gray;margin: 0 0.4em 0.5em 0.4em;box-sizing: border-box;padding-bottom: 0.4em;background-color: white;}#sk-container-id-2 div.sk-label label {font-family: monospace;font-weight: bold;display: inline-block;line-height: 1.2em;}#sk-container-id-2 div.sk-label-container {text-align: center;}#sk-container-id-2 div.sk-container {/* jupyter's `normalize.less` sets `[hidden] { display: none; }` but bootstrap.min.css set `[hidden] { display: none !important; }` so we also need the `!important` here to be able to override the default hidden behavior on the sphinx rendered scikit-learn.org. See: https://github.com/scikit-learn/scikit-learn/issues/21755 */display: inline-block !important;position: relative;}#sk-container-id-2 div.sk-text-repr-fallback {display: none;}</style><div id=\"sk-container-id-2\" class=\"sk-top-container\"><div class=\"sk-text-repr-fallback\"><pre>LogisticRegression()</pre><b>In a Jupyter environment, please rerun this cell to show the HTML representation or trust the notebook. <br />On GitHub, the HTML representation is unable to render, please try loading this page with nbviewer.org.</b></div><div class=\"sk-container\" hidden><div class=\"sk-item\"><div class=\"sk-estimator sk-toggleable\"><input class=\"sk-toggleable__control sk-hidden--visually\" id=\"sk-estimator-id-2\" type=\"checkbox\" checked><label for=\"sk-estimator-id-2\" class=\"sk-toggleable__label sk-toggleable__label-arrow\">LogisticRegression</label><div class=\"sk-toggleable__content\"><pre>LogisticRegression()</pre></div></div></div></div></div>"
            ]
          },
          "metadata": {},
          "execution_count": 82
        }
      ]
    },
    {
      "cell_type": "markdown",
      "source": [
        "Model Evaluation"
      ],
      "metadata": {
        "id": "YHuYZG5LLEFc"
      }
    },
    {
      "cell_type": "markdown",
      "source": [
        "Accuracy Score"
      ],
      "metadata": {
        "id": "c7CgUIS6LIOh"
      }
    },
    {
      "cell_type": "code",
      "source": [
        "# accuracy on training data\n",
        "X_train_prediction=model.predict(X_train_std)\n",
        "training_data_accuracy=accuracy_score(Y_train,X_train_prediction)"
      ],
      "metadata": {
        "id": "C1v7gSCMLDjd"
      },
      "execution_count": 83,
      "outputs": []
    },
    {
      "cell_type": "code",
      "source": [
        "print('Accuracy on the training data =',training_data_accuracy)"
      ],
      "metadata": {
        "colab": {
          "base_uri": "https://localhost:8080/"
        },
        "id": "o6nWC4TmLke7",
        "outputId": "7cc84204-3bf2-4619-9d97-2b033b7f5e6e"
      },
      "execution_count": 84,
      "outputs": [
        {
          "output_type": "stream",
          "name": "stdout",
          "text": [
            "Accuracy on the training data = 0.9283333333333333\n"
          ]
        }
      ]
    },
    {
      "cell_type": "code",
      "source": [
        "# accuracy on test data\n",
        "X_test_prediction=model.predict(X_test_std)\n",
        "test_data_accuracy=accuracy_score(Y_test,X_test_prediction)"
      ],
      "metadata": {
        "id": "Q86XXQOPLzNJ"
      },
      "execution_count": 85,
      "outputs": []
    },
    {
      "cell_type": "code",
      "source": [
        "print('Accuracy on the test data =',test_data_accuracy)"
      ],
      "metadata": {
        "colab": {
          "base_uri": "https://localhost:8080/"
        },
        "id": "KyEP--YYMErF",
        "outputId": "c36e8e8b-54a5-4c19-a1a0-db5204136ebc"
      },
      "execution_count": 86,
      "outputs": [
        {
          "output_type": "stream",
          "name": "stdout",
          "text": [
            "Accuracy on the test data = 0.931\n"
          ]
        }
      ]
    },
    {
      "cell_type": "markdown",
      "source": [
        "Buidling a Predictive System"
      ],
      "metadata": {
        "id": "qXRBYQCJMNSn"
      }
    },
    {
      "cell_type": "code",
      "source": [
        "input_data=(0,0,0.236,0,0.716,0,0,0,1.686,0,0.476,1.206,0,0,0,0.236,0,0,2.906,0,1.206,0,0,0.236,0,0,0,0,0,0,0,0,0,0,0,0,0,0.236,0,0,0,0,0,0,0.236,0,0,0,0,0.032,0,1.017,0.287,0.105,7.088,65,459)\n",
        "\n",
        "# change the input data to a numpy array\n",
        "input_data_as_numpy_array=np.asarray(input_data)\n",
        "\n",
        "# reshape the numpy array as we are predicting for one datapoint\n",
        "input_data_reshaped=input_data_as_numpy_array.reshape(1,-1)\n",
        "\n",
        "prediction= model.predict(input_data_reshaped)\n",
        "print(prediction)\n",
        "\n",
        "if(prediction[0]==0):\n",
        "  print('The email is ham.')\n",
        "else:\n",
        "  print('The email is spam.')"
      ],
      "metadata": {
        "colab": {
          "base_uri": "https://localhost:8080/"
        },
        "id": "WPFzF92DMTPn",
        "outputId": "024334be-c1e4-46a8-aeee-2d888e7b2004"
      },
      "execution_count": 87,
      "outputs": [
        {
          "output_type": "stream",
          "name": "stdout",
          "text": [
            "[1]\n",
            "The email is spam.\n"
          ]
        }
      ]
    }
  ]
}